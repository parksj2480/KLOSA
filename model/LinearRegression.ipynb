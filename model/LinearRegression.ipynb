{
 "cells": [
  {
   "cell_type": "markdown",
   "id": "d78c5660",
   "metadata": {},
   "source": [
    "# Linear Regression Machine Learning "
   ]
  },
  {
   "cell_type": "code",
   "execution_count": 37,
   "id": "f718c28a",
   "metadata": {},
   "outputs": [],
   "source": [
    "import pandas as pd\n",
    "import numpy as np\n",
    "import random\n",
    "import os\n",
    "\n",
    "import warnings\n",
    "warnings.filterwarnings('ignore')"
   ]
  },
  {
   "cell_type": "code",
   "execution_count": 23,
   "id": "b8b0a81b",
   "metadata": {},
   "outputs": [],
   "source": [
    "# 일정한 결과를 위해 seed 고정\n",
    "def seed_everything(seed):\n",
    "    random.seed(seed)\n",
    "    os.environ['PYTHONHASHSEED'] = str(seed)\n",
    "    np.random.seed(seed)\n",
    "seed_everything(42) # Seed 고정 42"
   ]
  },
  {
   "cell_type": "code",
   "execution_count": 44,
   "id": "32683ed5",
   "metadata": {},
   "outputs": [],
   "source": [
    "from sklearn.model_selection import GridSearchCV \n",
    "from sklearn.metrics import mean_squared_error\n",
    "from sklearn.metrics import get_scorer_names\n",
    "# Grid Search 함수 정의\n",
    "def modelfit(model, grid_params, X_train, y_train, X_test, y_test): \n",
    "    model = GridSearchCV(estimator=model,\n",
    "                        param_grid=grid_params,\n",
    "                        cv=4,\n",
    "                        refit=True,\n",
    "                        scoring='neg_root_mean_squared_error'\n",
    "                        )\n",
    "\n",
    "    model.fit(X_train, y_train)\n",
    "    print('Train Done.')\n",
    "\n",
    "    #Predict training set:\n",
    "    y_pred = model.predict(X_test)\n",
    "\n",
    "    #Print model report:\n",
    "    print(\"\\nModel Report\")\n",
    "    #print(\"\\nCV 결과 : \", model.cv_results_)\n",
    "    print(\"\\n베스트 정답률 : \", model.best_score_)\n",
    "    print(\"\\n베스트 파라미터 : \", model.best_params_)\n",
    "    print(\"Test 점수 : \",np.sqrt(mean_squared_error(y_test, y_pred)))\n",
    "    return model"
   ]
  },
  {
   "cell_type": "code",
   "execution_count": 2,
   "id": "cea16eaf",
   "metadata": {},
   "outputs": [],
   "source": [
    "pd.set_option('display.max_columns',None)\n",
    "pd.set_option('display.max_rows',None)"
   ]
  },
  {
   "cell_type": "code",
   "execution_count": 24,
   "id": "42bc0414",
   "metadata": {},
   "outputs": [],
   "source": [
    "# Machine Learning 에서는 같은 사람이라도 설문 차수가 다르면 다른 데이터로 취급\n",
    "df=pd.read_csv(\"../data/LongData.csv\")"
   ]
  },
  {
   "cell_type": "code",
   "execution_count": 25,
   "id": "14cc9ba0",
   "metadata": {},
   "outputs": [
    {
     "data": {
      "text/html": [
       "<div>\n",
       "<style scoped>\n",
       "    .dataframe tbody tr th:only-of-type {\n",
       "        vertical-align: middle;\n",
       "    }\n",
       "\n",
       "    .dataframe tbody tr th {\n",
       "        vertical-align: top;\n",
       "    }\n",
       "\n",
       "    .dataframe thead th {\n",
       "        text-align: right;\n",
       "    }\n",
       "</style>\n",
       "<table border=\"1\" class=\"dataframe\">\n",
       "  <thead>\n",
       "    <tr style=\"text-align: right;\">\n",
       "      <th></th>\n",
       "      <th>Unnamed: 0</th>\n",
       "      <th>hhsize</th>\n",
       "      <th>A002_age</th>\n",
       "      <th>edu</th>\n",
       "      <th>gender1</th>\n",
       "      <th>region1</th>\n",
       "      <th>region3</th>\n",
       "      <th>C152</th>\n",
       "      <th>C056</th>\n",
       "      <th>C075</th>\n",
       "      <th>C083</th>\n",
       "      <th>C105</th>\n",
       "      <th>C107</th>\n",
       "      <th>C108</th>\n",
       "      <th>C144</th>\n",
       "      <th>bmi</th>\n",
       "      <th>smoke</th>\n",
       "      <th>iadl</th>\n",
       "      <th>mmse</th>\n",
       "      <th>mmseg</th>\n",
       "      <th>chronic_a</th>\n",
       "      <th>chronic_b</th>\n",
       "      <th>chronic_c</th>\n",
       "      <th>chronic_d</th>\n",
       "      <th>chronic_e</th>\n",
       "      <th>chronic_f</th>\n",
       "      <th>chronic_g</th>\n",
       "      <th>chronic_h</th>\n",
       "      <th>chronic_i</th>\n",
       "      <th>present_labor</th>\n",
       "      <th>alc</th>\n",
       "      <th>adl</th>\n",
       "    </tr>\n",
       "  </thead>\n",
       "  <tbody>\n",
       "    <tr>\n",
       "      <th>0</th>\n",
       "      <td>0</td>\n",
       "      <td>1.0</td>\n",
       "      <td>73.0</td>\n",
       "      <td>2.0</td>\n",
       "      <td>5.0</td>\n",
       "      <td>11.0</td>\n",
       "      <td>1.0</td>\n",
       "      <td>4.0</td>\n",
       "      <td>1.0</td>\n",
       "      <td>4.0</td>\n",
       "      <td>2.0</td>\n",
       "      <td>60.0</td>\n",
       "      <td>152.0</td>\n",
       "      <td>5.0</td>\n",
       "      <td>1.0</td>\n",
       "      <td>25.969529</td>\n",
       "      <td>0.0</td>\n",
       "      <td>0.0</td>\n",
       "      <td>29.0</td>\n",
       "      <td>3.0</td>\n",
       "      <td>5.0</td>\n",
       "      <td>5.0</td>\n",
       "      <td>5.0</td>\n",
       "      <td>5.0</td>\n",
       "      <td>5.0</td>\n",
       "      <td>5.0</td>\n",
       "      <td>5.0</td>\n",
       "      <td>5.0</td>\n",
       "      <td>1.0</td>\n",
       "      <td>5.0</td>\n",
       "      <td>NaN</td>\n",
       "      <td>NaN</td>\n",
       "    </tr>\n",
       "    <tr>\n",
       "      <th>1</th>\n",
       "      <td>1</td>\n",
       "      <td>2.0</td>\n",
       "      <td>51.0</td>\n",
       "      <td>4.0</td>\n",
       "      <td>5.0</td>\n",
       "      <td>11.0</td>\n",
       "      <td>1.0</td>\n",
       "      <td>2.0</td>\n",
       "      <td>5.0</td>\n",
       "      <td>2.0</td>\n",
       "      <td>2.0</td>\n",
       "      <td>59.0</td>\n",
       "      <td>158.0</td>\n",
       "      <td>5.0</td>\n",
       "      <td>1.0</td>\n",
       "      <td>23.634033</td>\n",
       "      <td>0.0</td>\n",
       "      <td>0.0</td>\n",
       "      <td>30.0</td>\n",
       "      <td>3.0</td>\n",
       "      <td>5.0</td>\n",
       "      <td>5.0</td>\n",
       "      <td>5.0</td>\n",
       "      <td>5.0</td>\n",
       "      <td>5.0</td>\n",
       "      <td>5.0</td>\n",
       "      <td>5.0</td>\n",
       "      <td>5.0</td>\n",
       "      <td>5.0</td>\n",
       "      <td>5.0</td>\n",
       "      <td>NaN</td>\n",
       "      <td>NaN</td>\n",
       "    </tr>\n",
       "    <tr>\n",
       "      <th>2</th>\n",
       "      <td>2</td>\n",
       "      <td>2.0</td>\n",
       "      <td>52.0</td>\n",
       "      <td>4.0</td>\n",
       "      <td>1.0</td>\n",
       "      <td>11.0</td>\n",
       "      <td>1.0</td>\n",
       "      <td>2.0</td>\n",
       "      <td>5.0</td>\n",
       "      <td>2.0</td>\n",
       "      <td>2.0</td>\n",
       "      <td>72.0</td>\n",
       "      <td>168.0</td>\n",
       "      <td>1.0</td>\n",
       "      <td>1.0</td>\n",
       "      <td>25.510204</td>\n",
       "      <td>2.0</td>\n",
       "      <td>0.0</td>\n",
       "      <td>29.0</td>\n",
       "      <td>3.0</td>\n",
       "      <td>5.0</td>\n",
       "      <td>5.0</td>\n",
       "      <td>5.0</td>\n",
       "      <td>5.0</td>\n",
       "      <td>5.0</td>\n",
       "      <td>5.0</td>\n",
       "      <td>5.0</td>\n",
       "      <td>5.0</td>\n",
       "      <td>5.0</td>\n",
       "      <td>1.0</td>\n",
       "      <td>NaN</td>\n",
       "      <td>NaN</td>\n",
       "    </tr>\n",
       "    <tr>\n",
       "      <th>3</th>\n",
       "      <td>3</td>\n",
       "      <td>1.0</td>\n",
       "      <td>80.0</td>\n",
       "      <td>1.0</td>\n",
       "      <td>5.0</td>\n",
       "      <td>11.0</td>\n",
       "      <td>1.0</td>\n",
       "      <td>4.0</td>\n",
       "      <td>5.0</td>\n",
       "      <td>4.0</td>\n",
       "      <td>4.0</td>\n",
       "      <td>43.0</td>\n",
       "      <td>143.0</td>\n",
       "      <td>1.0</td>\n",
       "      <td>4.0</td>\n",
       "      <td>21.027923</td>\n",
       "      <td>0.0</td>\n",
       "      <td>7.0</td>\n",
       "      <td>12.0</td>\n",
       "      <td>1.0</td>\n",
       "      <td>1.0</td>\n",
       "      <td>5.0</td>\n",
       "      <td>5.0</td>\n",
       "      <td>5.0</td>\n",
       "      <td>5.0</td>\n",
       "      <td>5.0</td>\n",
       "      <td>1.0</td>\n",
       "      <td>5.0</td>\n",
       "      <td>1.0</td>\n",
       "      <td>5.0</td>\n",
       "      <td>NaN</td>\n",
       "      <td>NaN</td>\n",
       "    </tr>\n",
       "    <tr>\n",
       "      <th>4</th>\n",
       "      <td>4</td>\n",
       "      <td>2.0</td>\n",
       "      <td>70.0</td>\n",
       "      <td>1.0</td>\n",
       "      <td>5.0</td>\n",
       "      <td>11.0</td>\n",
       "      <td>1.0</td>\n",
       "      <td>4.0</td>\n",
       "      <td>5.0</td>\n",
       "      <td>4.0</td>\n",
       "      <td>3.0</td>\n",
       "      <td>50.0</td>\n",
       "      <td>157.0</td>\n",
       "      <td>1.0</td>\n",
       "      <td>1.0</td>\n",
       "      <td>20.284799</td>\n",
       "      <td>0.0</td>\n",
       "      <td>0.0</td>\n",
       "      <td>23.0</td>\n",
       "      <td>2.0</td>\n",
       "      <td>1.0</td>\n",
       "      <td>5.0</td>\n",
       "      <td>5.0</td>\n",
       "      <td>5.0</td>\n",
       "      <td>5.0</td>\n",
       "      <td>5.0</td>\n",
       "      <td>5.0</td>\n",
       "      <td>5.0</td>\n",
       "      <td>5.0</td>\n",
       "      <td>5.0</td>\n",
       "      <td>NaN</td>\n",
       "      <td>NaN</td>\n",
       "    </tr>\n",
       "  </tbody>\n",
       "</table>\n",
       "</div>"
      ],
      "text/plain": [
       "   Unnamed: 0  hhsize  A002_age  edu  gender1  region1  region3  C152  C056  \\\n",
       "0           0     1.0      73.0  2.0      5.0     11.0      1.0   4.0   1.0   \n",
       "1           1     2.0      51.0  4.0      5.0     11.0      1.0   2.0   5.0   \n",
       "2           2     2.0      52.0  4.0      1.0     11.0      1.0   2.0   5.0   \n",
       "3           3     1.0      80.0  1.0      5.0     11.0      1.0   4.0   5.0   \n",
       "4           4     2.0      70.0  1.0      5.0     11.0      1.0   4.0   5.0   \n",
       "\n",
       "   C075  C083  C105   C107  C108  C144        bmi  smoke  iadl  mmse  mmseg  \\\n",
       "0   4.0   2.0  60.0  152.0   5.0   1.0  25.969529    0.0   0.0  29.0    3.0   \n",
       "1   2.0   2.0  59.0  158.0   5.0   1.0  23.634033    0.0   0.0  30.0    3.0   \n",
       "2   2.0   2.0  72.0  168.0   1.0   1.0  25.510204    2.0   0.0  29.0    3.0   \n",
       "3   4.0   4.0  43.0  143.0   1.0   4.0  21.027923    0.0   7.0  12.0    1.0   \n",
       "4   4.0   3.0  50.0  157.0   1.0   1.0  20.284799    0.0   0.0  23.0    2.0   \n",
       "\n",
       "   chronic_a  chronic_b  chronic_c  chronic_d  chronic_e  chronic_f  \\\n",
       "0        5.0        5.0        5.0        5.0        5.0        5.0   \n",
       "1        5.0        5.0        5.0        5.0        5.0        5.0   \n",
       "2        5.0        5.0        5.0        5.0        5.0        5.0   \n",
       "3        1.0        5.0        5.0        5.0        5.0        5.0   \n",
       "4        1.0        5.0        5.0        5.0        5.0        5.0   \n",
       "\n",
       "   chronic_g  chronic_h  chronic_i  present_labor  alc  adl  \n",
       "0        5.0        5.0        1.0            5.0  NaN  NaN  \n",
       "1        5.0        5.0        5.0            5.0  NaN  NaN  \n",
       "2        5.0        5.0        5.0            1.0  NaN  NaN  \n",
       "3        1.0        5.0        1.0            5.0  NaN  NaN  \n",
       "4        5.0        5.0        5.0            5.0  NaN  NaN  "
      ]
     },
     "execution_count": 25,
     "metadata": {},
     "output_type": "execute_result"
    }
   ],
   "source": [
    "df.head()"
   ]
  },
  {
   "cell_type": "code",
   "execution_count": 5,
   "id": "d0d44363",
   "metadata": {},
   "outputs": [],
   "source": [
    "# 제거 할 변수 추가 < region1, 낙상, adl ,iadl, 악력 > 제거\n",
    "\n",
    "df=df[df.columns.drop(list(df.filter(regex=r'(region1|adl|C056)')))]"
   ]
  },
  {
   "cell_type": "code",
   "execution_count": 6,
   "id": "fd7d537c",
   "metadata": {},
   "outputs": [
    {
     "data": {
      "text/plain": [
       "(88736, 28)"
      ]
     },
     "execution_count": 6,
     "metadata": {},
     "output_type": "execute_result"
    }
   ],
   "source": [
    "df.shape"
   ]
  },
  {
   "cell_type": "code",
   "execution_count": 7,
   "id": "8ed3831f",
   "metadata": {},
   "outputs": [],
   "source": [
    "df_drop=df.dropna(axis=0)"
   ]
  },
  {
   "cell_type": "code",
   "execution_count": 9,
   "id": "cdebaf9e",
   "metadata": {},
   "outputs": [],
   "source": [
    "X=df_drop.drop(['mmse','mmseg'],axis=1).iloc[:,1:]\n",
    "y=df_drop['mmse']"
   ]
  },
  {
   "cell_type": "code",
   "execution_count": 10,
   "id": "934ade8d",
   "metadata": {},
   "outputs": [],
   "source": [
    "X=X.fillna(0)\n",
    "y=y.fillna(0)"
   ]
  },
  {
   "cell_type": "code",
   "execution_count": 11,
   "id": "66c58bfc",
   "metadata": {},
   "outputs": [
    {
     "name": "stdout",
     "output_type": "stream",
     "text": [
      "(50085, 25) (50085,)\n"
     ]
    }
   ],
   "source": [
    "print(X.shape,y.shape)"
   ]
  },
  {
   "cell_type": "code",
   "execution_count": 12,
   "id": "2e2b265b",
   "metadata": {},
   "outputs": [],
   "source": [
    "from sklearn.model_selection import train_test_split\n",
    "\n",
    "X_train, X_test, y_train, y_test = train_test_split(X,y,test_size=0.2,random_state=42)"
   ]
  },
  {
   "cell_type": "code",
   "execution_count": 13,
   "id": "77f8b7ce",
   "metadata": {},
   "outputs": [
    {
     "name": "stdout",
     "output_type": "stream",
     "text": [
      "(40068, 25) (40068,) (10017, 25) (10017,)\n"
     ]
    }
   ],
   "source": [
    "print(X_train.shape,y_train.shape,X_test.shape,y_test.shape)"
   ]
  },
  {
   "cell_type": "markdown",
   "id": "52382c12",
   "metadata": {},
   "source": [
    "### Linear, DecisionTree, RandomForest, XGboost, SVM  Regression"
   ]
  },
  {
   "cell_type": "code",
   "execution_count": 53,
   "id": "e599eb7b",
   "metadata": {},
   "outputs": [
    {
     "name": "stdout",
     "output_type": "stream",
     "text": [
      "기본 점수 : 4.079521574345239\n"
     ]
    }
   ],
   "source": [
    "# LinearRegression Model\n",
    "\n",
    "from sklearn.linear_model import LinearRegression\n",
    "\n",
    "model=LinearRegression()\n",
    "model.fit(X_train,y_train)\n",
    "y_pred=model.predict(X_test)\n",
    "print(\"기본 점수 :\",np.sqrt(mean_squared_error(y_test, y_pred)))\n",
    "\n",
    "grid_params={\n",
    "    'normalize':[True,False]\n",
    "}\n",
    "\n",
    "#model=modelfit(model, grid_params, X_train, y_train, X_test, y_test)"
   ]
  },
  {
   "cell_type": "code",
   "execution_count": 54,
   "id": "e9cdb291",
   "metadata": {},
   "outputs": [
    {
     "name": "stdout",
     "output_type": "stream",
     "text": [
      "기본 점수 : 5.37787443077946\n"
     ]
    }
   ],
   "source": [
    "# DecisionTree Regression Model\n",
    "\n",
    "from sklearn.tree import DecisionTreeRegressor\n",
    "\n",
    "model=DecisionTreeRegressor()\n",
    "model.fit(X_train,y_train)\n",
    "y_pred=model.predict(X_test)\n",
    "print(\"기본 점수 :\",np.sqrt(mean_squared_error(y_test, y_pred)))\n",
    "\n",
    "grid_params={\n",
    "    'min_samples_leaf': [1, 2, 3],\n",
    "    'max_depth': [1, 2, 3, 4, 5]\n",
    "}\n",
    "\n",
    "#model = modelfit(model, grid_params, X_train, y_train, X_test, y_test)"
   ]
  },
  {
   "cell_type": "code",
   "execution_count": 55,
   "id": "5b168c91",
   "metadata": {},
   "outputs": [
    {
     "name": "stdout",
     "output_type": "stream",
     "text": [
      "기본 점수 : 3.78798514057121\n"
     ]
    }
   ],
   "source": [
    "# RandomForest Regression Model\n",
    "from sklearn.ensemble import RandomForestRegressor\n",
    "\n",
    "model=RandomForestRegressor()\n",
    "model.fit(X_train,y_train)\n",
    "y_pred=model.predict(X_test)\n",
    "print(\"기본 점수 :\",np.sqrt(mean_squared_error(y_test, y_pred)))\n",
    "\n",
    "grid_params={\n",
    "    'n_estimators': [100, 150, 200, 250, 300],\n",
    "    'max_depth': [1,2,3,4],\n",
    "}\n",
    "\n",
    "#model = modelfit(model, grid_params, X_train, y_train, X_test, y_test)"
   ]
  },
  {
   "cell_type": "code",
   "execution_count": 56,
   "id": "62d6bd64",
   "metadata": {},
   "outputs": [
    {
     "name": "stdout",
     "output_type": "stream",
     "text": [
      "기본 점수 : 3.795951511323613\n"
     ]
    }
   ],
   "source": [
    "# XGboost Regression Model\n",
    "import xgboost as xgb \n",
    "\n",
    "model = xgb.XGBRegressor()\n",
    "model.fit(X_train,y_train)\n",
    "y_pred=model.predict(X_test)\n",
    "print(\"기본 점수 :\",np.sqrt(mean_squared_error(y_test, y_pred)))\n",
    "\n",
    "grid_params={\n",
    "    \"colsample_bytree\":[1.0],\n",
    "    \"min_child_weight\":[1.0,1.2],\n",
    "    'max_depth': [3,4,6,7,8,9,10], \n",
    "    'n_estimators': [250,500,1000,1500,2000]\n",
    "}\n",
    "\n",
    "#model = modelfit(model, grid_params, X_train, y_train, X_test, y_test)"
   ]
  },
  {
   "cell_type": "code",
   "execution_count": 57,
   "id": "4ab71364",
   "metadata": {},
   "outputs": [
    {
     "name": "stdout",
     "output_type": "stream",
     "text": [
      "기본 점수 : 4.268740162818391\n"
     ]
    }
   ],
   "source": [
    "# Support Vector Regression Model\n",
    "from sklearn.svm import SVR\n",
    "\n",
    "model=SVR()\n",
    "model.fit(X_train,y_train)\n",
    "y_pred=model.predict(X_test)\n",
    "print(\"기본 점수 :\",np.sqrt(mean_squared_error(y_test, y_pred)))\n",
    "\n",
    "grid_params={\n",
    "    'kernel' : ('linear', 'poly', 'rbf', 'sigmoid'),\n",
    "    'C' : [1,5,10],\n",
    "    'degree' : [3,8],\n",
    "    'coef0' : [0.01,10,0.5],\n",
    "    'gamma' : ('auto','scale')\n",
    "}\n",
    "\n",
    "#model = modelfit(model, grid_params, X_train, y_train, X_test, y_test)"
   ]
  }
 ],
 "metadata": {
  "kernelspec": {
   "display_name": "Python 3 (ipykernel)",
   "language": "python",
   "name": "python3"
  },
  "language_info": {
   "codemirror_mode": {
    "name": "ipython",
    "version": 3
   },
   "file_extension": ".py",
   "mimetype": "text/x-python",
   "name": "python",
   "nbconvert_exporter": "python",
   "pygments_lexer": "ipython3",
   "version": "3.8.13"
  }
 },
 "nbformat": 4,
 "nbformat_minor": 5
}
