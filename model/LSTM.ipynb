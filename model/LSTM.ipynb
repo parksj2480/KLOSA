{
 "cells": [
  {
   "cell_type": "code",
   "execution_count": 1,
   "id": "b852d114",
   "metadata": {},
   "outputs": [],
   "source": [
    "import pandas as pd\n",
    "import numpy as np\n",
    "import tensorflow as tf\n",
    "from keras.layers import LSTM"
   ]
  },
  {
   "cell_type": "code",
   "execution_count": 2,
   "id": "e5a25b84",
   "metadata": {},
   "outputs": [],
   "source": [
    "pd.set_option('display.max_columns',None)\n",
    "pd.set_option('display.max_rows',None)"
   ]
  },
  {
   "cell_type": "code",
   "execution_count": 33,
   "id": "cc5cd885",
   "metadata": {},
   "outputs": [
    {
     "data": {
      "text/plain": [
       "(11092, 248)"
      ]
     },
     "execution_count": 33,
     "metadata": {},
     "output_type": "execute_result"
    }
   ],
   "source": [
    "df=pd.read_csv(\"MainData.csv\")\n",
    "df.shape"
   ]
  },
  {
   "cell_type": "code",
   "execution_count": 34,
   "id": "3559501f",
   "metadata": {},
   "outputs": [],
   "source": [
    "# 제거 할 변수 추가 < region1, 낙상, adl ,iadl, 악력 > 제거\n",
    "\n",
    "df=df[df.columns.drop(list(df.filter(regex=r'(region1|adl|C056)')))]"
   ]
  },
  {
   "cell_type": "code",
   "execution_count": 35,
   "id": "ecb99319",
   "metadata": {},
   "outputs": [],
   "source": [
    "df1=df.loc[:,'w01hhsize':'w01present_labor']\n",
    "df2=df.loc[:,'w02hhsize':'w02present_labor']\n",
    "df3=df.loc[:,'w03hhsize':'w03present_labor']\n",
    "df4=df.loc[:,'w04hhsize':'w04present_labor']\n",
    "df5=df.loc[:,'w05hhsize':'w05present_labor']\n",
    "df6=df.loc[:,'w06hhsize':'w06present_labor']\n",
    "df7=df.loc[:,'w07hhsize':'w07present_labor']\n",
    "df8=df.loc[:,'w08hhsize':'w08present_labor']"
   ]
  },
  {
   "cell_type": "code",
   "execution_count": 36,
   "id": "516c9502",
   "metadata": {},
   "outputs": [
    {
     "name": "stdout",
     "output_type": "stream",
     "text": [
      "(11092, 26) (11092, 27) (11092, 27) (11092, 27) (11092, 27) (11092, 27) (11092, 27) (11092, 27)\n"
     ]
    }
   ],
   "source": [
    "# 1차 설문조사에 alc 과  adl점수가 없음.\n",
    "print(df1.shape,df2.shape,df3.shape,df4.shape,df5.shape,df6.shape,df7.shape,df8.shape)"
   ]
  },
  {
   "cell_type": "code",
   "execution_count": 45,
   "id": "25a18989",
   "metadata": {},
   "outputs": [
    {
     "data": {
      "text/plain": [
       "(4128, 189)"
      ]
     },
     "execution_count": 45,
     "metadata": {},
     "output_type": "execute_result"
    }
   ],
   "source": [
    "# 여기서 11092 명 -> 4128 은 2차 ~ 8차 까지의 설문데이터가 모두 있는 경우를 의미함.\n",
    "df_new=pd.concat([df2,df3,df4,df5,df6,df7,df8],axis=1).dropna(axis=0)\n",
    "df_new.shape"
   ]
  },
  {
   "cell_type": "code",
   "execution_count": 46,
   "id": "3b1769b4",
   "metadata": {},
   "outputs": [],
   "source": [
    "X=df_new.loc[:,:'w07present_labor']\n",
    "y=df_new.w08mmse"
   ]
  },
  {
   "cell_type": "code",
   "execution_count": 47,
   "id": "d50d30df",
   "metadata": {},
   "outputs": [],
   "source": [
    "from sklearn.preprocessing import MinMaxScaler\n",
    "\n",
    "sc=MinMaxScaler()\n",
    "\n",
    "X=pd.DataFrame(sc.fit_transform(X))"
   ]
  },
  {
   "cell_type": "code",
   "execution_count": 48,
   "id": "1d2a0fac",
   "metadata": {},
   "outputs": [
    {
     "data": {
      "text/plain": [
       "(4128, 162)"
      ]
     },
     "execution_count": 48,
     "metadata": {},
     "output_type": "execute_result"
    }
   ],
   "source": [
    "X.shape"
   ]
  },
  {
   "cell_type": "code",
   "execution_count": 49,
   "id": "4d36aaec",
   "metadata": {},
   "outputs": [
    {
     "name": "stdout",
     "output_type": "stream",
     "text": [
      "(4128, 6, 27) (4128,)\n"
     ]
    }
   ],
   "source": [
    "X=X.values.reshape(X.shape[0],6,27)\n",
    "print(X.shape,y.shape) # (size,timestep,feature)"
   ]
  },
  {
   "cell_type": "code",
   "execution_count": 50,
   "id": "f17d5de8",
   "metadata": {},
   "outputs": [],
   "source": [
    "# Train Test Set 으로 Split 하자\n",
    "from sklearn.model_selection import train_test_split\n",
    "\n",
    "X_train, X_test, y_train, y_test = train_test_split(X,y,test_size=0.2,stratify=y, random_state=42)"
   ]
  },
  {
   "cell_type": "code",
   "execution_count": 51,
   "id": "036636ef",
   "metadata": {},
   "outputs": [
    {
     "name": "stdout",
     "output_type": "stream",
     "text": [
      "(3302, 6, 27) (826, 6, 27)\n"
     ]
    }
   ],
   "source": [
    "print(X_train.shape,X_test.shape)"
   ]
  },
  {
   "cell_type": "markdown",
   "id": "1bf424af",
   "metadata": {},
   "source": [
    "# LSTM Many-to-one"
   ]
  },
  {
   "cell_type": "code",
   "execution_count": 100,
   "id": "80d3c192",
   "metadata": {},
   "outputs": [
    {
     "name": "stdout",
     "output_type": "stream",
     "text": [
      "Model: \"sequential\"\n",
      "_________________________________________________________________\n",
      " Layer (type)                Output Shape              Param #   \n",
      "=================================================================\n",
      " lstm (LSTM)                 (None, 20)                3840      \n",
      "                                                                 \n",
      " dense (Dense)               (None, 10)                210       \n",
      "                                                                 \n",
      " dense_1 (Dense)             (None, 1)                 11        \n",
      "                                                                 \n",
      "=================================================================\n",
      "Total params: 4,061\n",
      "Trainable params: 4,061\n",
      "Non-trainable params: 0\n",
      "_________________________________________________________________\n"
     ]
    }
   ],
   "source": [
    "# LSTM many-to-one 구현\n",
    "K.clear_session()\n",
    "model2 = Sequential() # Sequeatial Model\n",
    "model2.add(LSTM(20, input_shape=(6, 27),return_sequences=False)) # (timestep, feature)\n",
    "model2.add(Dense(10,activation='relu'))\n",
    "model2.add(Dense(1)) # output = 1\n",
    "model2.compile(optimizer='adam', loss='mse', metrics=[tf.keras.metrics.RootMeanSquaredError()])\n",
    "\n",
    "model2.summary()"
   ]
  },
  {
   "cell_type": "code",
   "execution_count": 101,
   "id": "ea5693a2",
   "metadata": {
    "scrolled": true
   },
   "outputs": [
    {
     "name": "stdout",
     "output_type": "stream",
     "text": [
      "Epoch 1/100\n"
     ]
    },
    {
     "name": "stderr",
     "output_type": "stream",
     "text": [
      "2023-01-13 13:26:22.287733: I tensorflow/core/grappler/optimizers/custom_graph_optimizer_registry.cc:113] Plugin optimizer for device_type GPU is enabled.\n",
      "2023-01-13 13:26:22.399314: I tensorflow/core/grappler/optimizers/custom_graph_optimizer_registry.cc:113] Plugin optimizer for device_type GPU is enabled.\n"
     ]
    },
    {
     "name": "stdout",
     "output_type": "stream",
     "text": [
      "12/83 [===>..........................] - ETA: 0s - loss: 623.5712 - root_mean_squared_error: 24.9714"
     ]
    },
    {
     "name": "stderr",
     "output_type": "stream",
     "text": [
      "2023-01-13 13:26:22.489010: I tensorflow/core/grappler/optimizers/custom_graph_optimizer_registry.cc:113] Plugin optimizer for device_type GPU is enabled.\n"
     ]
    },
    {
     "name": "stdout",
     "output_type": "stream",
     "text": [
      "83/83 [==============================] - 2s 12ms/step - loss: 430.7932 - root_mean_squared_error: 20.7556 - val_loss: 218.2996 - val_root_mean_squared_error: 14.7750 - lr: 0.0010\n",
      "Epoch 2/100\n",
      " 1/83 [..............................] - ETA: 0s - loss: 215.5128 - root_mean_squared_error: 14.6804"
     ]
    },
    {
     "name": "stderr",
     "output_type": "stream",
     "text": [
      "2023-01-13 13:26:23.385371: I tensorflow/core/grappler/optimizers/custom_graph_optimizer_registry.cc:113] Plugin optimizer for device_type GPU is enabled.\n",
      "2023-01-13 13:26:23.426105: I tensorflow/core/grappler/optimizers/custom_graph_optimizer_registry.cc:113] Plugin optimizer for device_type GPU is enabled.\n"
     ]
    },
    {
     "name": "stdout",
     "output_type": "stream",
     "text": [
      "83/83 [==============================] - 1s 9ms/step - loss: 117.2822 - root_mean_squared_error: 10.8297 - val_loss: 52.2553 - val_root_mean_squared_error: 7.2288 - lr: 0.0010\n",
      "Epoch 3/100\n",
      "83/83 [==============================] - 1s 9ms/step - loss: 35.2740 - root_mean_squared_error: 5.9392 - val_loss: 31.0790 - val_root_mean_squared_error: 5.5749 - lr: 0.0010\n",
      "Epoch 4/100\n",
      "83/83 [==============================] - 1s 8ms/step - loss: 28.3488 - root_mean_squared_error: 5.3244 - val_loss: 30.6286 - val_root_mean_squared_error: 5.5343 - lr: 0.0010\n",
      "Epoch 5/100\n",
      "83/83 [==============================] - 1s 9ms/step - loss: 28.2241 - root_mean_squared_error: 5.3126 - val_loss: 30.5828 - val_root_mean_squared_error: 5.5302 - lr: 0.0010\n",
      "Epoch 6/100\n",
      "83/83 [==============================] - 1s 9ms/step - loss: 26.6052 - root_mean_squared_error: 5.1580 - val_loss: 24.7714 - val_root_mean_squared_error: 4.9771 - lr: 0.0010\n",
      "Epoch 7/100\n",
      "83/83 [==============================] - 1s 9ms/step - loss: 21.6378 - root_mean_squared_error: 4.6516 - val_loss: 21.6075 - val_root_mean_squared_error: 4.6484 - lr: 0.0010\n",
      "Epoch 8/100\n",
      "83/83 [==============================] - 1s 9ms/step - loss: 19.5872 - root_mean_squared_error: 4.4257 - val_loss: 19.6128 - val_root_mean_squared_error: 4.4286 - lr: 0.0010\n",
      "Epoch 9/100\n",
      "83/83 [==============================] - 1s 8ms/step - loss: 17.1319 - root_mean_squared_error: 4.1391 - val_loss: 16.0604 - val_root_mean_squared_error: 4.0075 - lr: 0.0010\n",
      "Epoch 10/100\n",
      "83/83 [==============================] - 1s 8ms/step - loss: 15.1135 - root_mean_squared_error: 3.8876 - val_loss: 14.5445 - val_root_mean_squared_error: 3.8137 - lr: 0.0010\n",
      "Epoch 11/100\n",
      "83/83 [==============================] - 1s 9ms/step - loss: 13.8105 - root_mean_squared_error: 3.7162 - val_loss: 13.6497 - val_root_mean_squared_error: 3.6946 - lr: 0.0010\n",
      "Epoch 12/100\n",
      "83/83 [==============================] - 1s 8ms/step - loss: 12.9099 - root_mean_squared_error: 3.5930 - val_loss: 12.7121 - val_root_mean_squared_error: 3.5654 - lr: 0.0010\n",
      "Epoch 13/100\n",
      "83/83 [==============================] - 1s 9ms/step - loss: 12.5799 - root_mean_squared_error: 3.5468 - val_loss: 13.1452 - val_root_mean_squared_error: 3.6256 - lr: 0.0010\n",
      "Epoch 14/100\n",
      "83/83 [==============================] - 1s 9ms/step - loss: 12.1945 - root_mean_squared_error: 3.4921 - val_loss: 12.5055 - val_root_mean_squared_error: 3.5363 - lr: 0.0010\n",
      "Epoch 15/100\n",
      "83/83 [==============================] - 1s 9ms/step - loss: 12.1127 - root_mean_squared_error: 3.4803 - val_loss: 12.1799 - val_root_mean_squared_error: 3.4900 - lr: 0.0010\n",
      "Epoch 16/100\n",
      "83/83 [==============================] - 1s 9ms/step - loss: 11.8462 - root_mean_squared_error: 3.4418 - val_loss: 11.8614 - val_root_mean_squared_error: 3.4440 - lr: 0.0010\n",
      "Epoch 17/100\n",
      "83/83 [==============================] - 1s 8ms/step - loss: 11.6834 - root_mean_squared_error: 3.4181 - val_loss: 11.6091 - val_root_mean_squared_error: 3.4072 - lr: 0.0010\n",
      "Epoch 18/100\n",
      "83/83 [==============================] - 1s 9ms/step - loss: 11.5442 - root_mean_squared_error: 3.3977 - val_loss: 11.6950 - val_root_mean_squared_error: 3.4198 - lr: 0.0010\n",
      "Epoch 19/100\n",
      "83/83 [==============================] - 1s 9ms/step - loss: 11.4597 - root_mean_squared_error: 3.3852 - val_loss: 11.9504 - val_root_mean_squared_error: 3.4569 - lr: 0.0010\n",
      "Epoch 20/100\n",
      "83/83 [==============================] - 1s 8ms/step - loss: 11.4537 - root_mean_squared_error: 3.3843 - val_loss: 11.4576 - val_root_mean_squared_error: 3.3849 - lr: 0.0010\n",
      "Epoch 21/100\n",
      "83/83 [==============================] - 1s 9ms/step - loss: 11.3297 - root_mean_squared_error: 3.3660 - val_loss: 11.9202 - val_root_mean_squared_error: 3.4526 - lr: 0.0010\n",
      "Epoch 22/100\n",
      "83/83 [==============================] - 1s 9ms/step - loss: 11.3357 - root_mean_squared_error: 3.3669 - val_loss: 11.4862 - val_root_mean_squared_error: 3.3891 - lr: 0.0010\n",
      "Epoch 23/100\n",
      "83/83 [==============================] - 1s 9ms/step - loss: 11.2612 - root_mean_squared_error: 3.3558 - val_loss: 11.3391 - val_root_mean_squared_error: 3.3674 - lr: 0.0010\n",
      "Epoch 24/100\n",
      "83/83 [==============================] - 1s 9ms/step - loss: 11.0934 - root_mean_squared_error: 3.3307 - val_loss: 11.3723 - val_root_mean_squared_error: 3.3723 - lr: 0.0010\n",
      "Epoch 25/100\n",
      "83/83 [==============================] - 1s 9ms/step - loss: 11.1215 - root_mean_squared_error: 3.3349 - val_loss: 11.2380 - val_root_mean_squared_error: 3.3523 - lr: 0.0010\n",
      "Epoch 26/100\n",
      "83/83 [==============================] - 1s 8ms/step - loss: 11.1856 - root_mean_squared_error: 3.3445 - val_loss: 11.2231 - val_root_mean_squared_error: 3.3501 - lr: 0.0010\n",
      "Epoch 27/100\n",
      "83/83 [==============================] - 1s 8ms/step - loss: 11.0880 - root_mean_squared_error: 3.3299 - val_loss: 11.2352 - val_root_mean_squared_error: 3.3519 - lr: 0.0010\n",
      "Epoch 28/100\n",
      "83/83 [==============================] - 1s 9ms/step - loss: 10.8610 - root_mean_squared_error: 3.2956 - val_loss: 11.3858 - val_root_mean_squared_error: 3.3743 - lr: 0.0010\n",
      "Epoch 29/100\n",
      "83/83 [==============================] - 1s 9ms/step - loss: 11.0840 - root_mean_squared_error: 3.3293 - val_loss: 11.1975 - val_root_mean_squared_error: 3.3463 - lr: 0.0010\n",
      "Epoch 30/100\n",
      "83/83 [==============================] - 1s 9ms/step - loss: 10.9841 - root_mean_squared_error: 3.3142 - val_loss: 11.5679 - val_root_mean_squared_error: 3.4012 - lr: 0.0010\n",
      "Epoch 31/100\n",
      "83/83 [==============================] - 1s 9ms/step - loss: 10.8088 - root_mean_squared_error: 3.2877 - val_loss: 11.2421 - val_root_mean_squared_error: 3.3529 - lr: 0.0010\n",
      "Epoch 32/100\n",
      "83/83 [==============================] - 1s 9ms/step - loss: 10.9098 - root_mean_squared_error: 3.3030 - val_loss: 11.1803 - val_root_mean_squared_error: 3.3437 - lr: 0.0010\n",
      "Epoch 33/100\n",
      "83/83 [==============================] - 1s 9ms/step - loss: 10.7249 - root_mean_squared_error: 3.2749 - val_loss: 11.1253 - val_root_mean_squared_error: 3.3355 - lr: 0.0010\n",
      "Epoch 34/100\n",
      "83/83 [==============================] - 1s 9ms/step - loss: 10.6824 - root_mean_squared_error: 3.2684 - val_loss: 11.1312 - val_root_mean_squared_error: 3.3364 - lr: 0.0010\n",
      "Epoch 35/100\n",
      "83/83 [==============================] - 1s 9ms/step - loss: 10.6230 - root_mean_squared_error: 3.2593 - val_loss: 11.7229 - val_root_mean_squared_error: 3.4239 - lr: 0.0010\n",
      "Epoch 36/100\n",
      "83/83 [==============================] - 1s 9ms/step - loss: 10.6762 - root_mean_squared_error: 3.2674 - val_loss: 11.1892 - val_root_mean_squared_error: 3.3450 - lr: 0.0010\n",
      "Epoch 37/100\n",
      "83/83 [==============================] - 1s 8ms/step - loss: 10.4512 - root_mean_squared_error: 3.2328 - val_loss: 11.1179 - val_root_mean_squared_error: 3.3344 - lr: 2.0000e-04\n",
      "Epoch 38/100\n",
      "83/83 [==============================] - 1s 8ms/step - loss: 10.4505 - root_mean_squared_error: 3.2327 - val_loss: 11.0828 - val_root_mean_squared_error: 3.3291 - lr: 2.0000e-04\n",
      "Epoch 39/100\n",
      "83/83 [==============================] - 1s 9ms/step - loss: 10.3755 - root_mean_squared_error: 3.2211 - val_loss: 11.0664 - val_root_mean_squared_error: 3.3266 - lr: 2.0000e-04\n",
      "Epoch 40/100\n",
      "83/83 [==============================] - 1s 9ms/step - loss: 10.3861 - root_mean_squared_error: 3.2227 - val_loss: 11.0685 - val_root_mean_squared_error: 3.3269 - lr: 2.0000e-04\n",
      "Epoch 41/100\n",
      "83/83 [==============================] - 1s 9ms/step - loss: 10.3702 - root_mean_squared_error: 3.2203 - val_loss: 11.1111 - val_root_mean_squared_error: 3.3333 - lr: 2.0000e-04\n",
      "Epoch 42/100\n",
      "83/83 [==============================] - 1s 9ms/step - loss: 10.3614 - root_mean_squared_error: 3.2189 - val_loss: 11.0874 - val_root_mean_squared_error: 3.3298 - lr: 2.0000e-04\n",
      "Epoch 43/100\n",
      "83/83 [==============================] - 1s 9ms/step - loss: 10.2780 - root_mean_squared_error: 3.2059 - val_loss: 11.0826 - val_root_mean_squared_error: 3.3290 - lr: 4.0000e-05\n",
      "Epoch 44/100\n",
      "83/83 [==============================] - 1s 9ms/step - loss: 10.2783 - root_mean_squared_error: 3.2060 - val_loss: 11.0767 - val_root_mean_squared_error: 3.3282 - lr: 4.0000e-05\n",
      "Epoch 44: early stopping\n"
     ]
    }
   ],
   "source": [
    "from tensorflow.keras.callbacks import EarlyStopping, ModelCheckpoint, ReduceLROnPlateau\n",
    "\n",
    "es = EarlyStopping(monitor='val_loss', mode='min', verbose=1, patience=5)\n",
    "mc = ModelCheckpoint(\"lstm.h5\", save_best_only=True)\n",
    "rlr = ReduceLROnPlateau(factor=0.2, patience=3)\n",
    "\n",
    "# fit model\n",
    "history = model2.fit(X_train, y_train, batch_size=32, validation_split=0.2, epochs=100,callbacks=[es,rlr])"
   ]
  },
  {
   "cell_type": "code",
   "execution_count": 102,
   "id": "4eefdf0e",
   "metadata": {},
   "outputs": [
    {
     "data": {
      "image/png": "[encoded data removed]",
      "text/plain": [
       "<Figure size 1440x504 with 2 Axes>"
      ]
     },
     "metadata": {
      "needs_background": "light"
     },
     "output_type": "display_data"
    }
   ],
   "source": [
    "import matplotlib.pyplot as plt\n",
    "\n",
    "fig = plt.figure(figsize=(20,7))\n",
    "fig.add_subplot(121)\n",
    "\n",
    "# Accuracy\n",
    "plt.plot(history.epoch, history.history['root_mean_squared_error'], label = \"rmse\")\n",
    "plt.plot(history.epoch, history.history['val_root_mean_squared_error'], label = \"val_rmse\")\n",
    "\n",
    "plt.title(\"RMSE\", fontsize=18)\n",
    "plt.xlabel(\"Epochs\", fontsize=15)\n",
    "plt.ylabel(\"RMSE\", fontsize=15)\n",
    "plt.grid(alpha=0.3)\n",
    "plt.legend()\n",
    "\n",
    "\n",
    "#Adding Subplot 1 (For Loss)\n",
    "fig.add_subplot(122)\n",
    "\n",
    "plt.plot(history.epoch, history.history['loss'], label=\"loss\")\n",
    "plt.plot(history.epoch, history.history['val_loss'], label=\"val_loss\")\n",
    "\n",
    "plt.title(\"Loss\", fontsize=18)\n",
    "plt.xlabel(\"Epochs\", fontsize=15)\n",
    "plt.ylabel(\"Loss\", fontsize=15)\n",
    "plt.grid(alpha=0.3)\n",
    "plt.legend()\n",
    "\n",
    "plt.show()"
   ]
  },
  {
   "cell_type": "code",
   "execution_count": 103,
   "id": "da39cd69",
   "metadata": {},
   "outputs": [
    {
     "name": "stdout",
     "output_type": "stream",
     "text": [
      "26/26 [==============================] - 0s 4ms/step\n"
     ]
    },
    {
     "name": "stderr",
     "output_type": "stream",
     "text": [
      "2023-01-13 13:26:59.767206: I tensorflow/core/grappler/optimizers/custom_graph_optimizer_registry.cc:113] Plugin optimizer for device_type GPU is enabled.\n",
      "2023-01-13 13:26:59.801257: I tensorflow/core/grappler/optimizers/custom_graph_optimizer_registry.cc:113] Plugin optimizer for device_type GPU is enabled.\n"
     ]
    }
   ],
   "source": [
    "y_pred=model2.predict(X_test)"
   ]
  },
  {
   "cell_type": "code",
   "execution_count": 104,
   "id": "f7264a3c",
   "metadata": {},
   "outputs": [
    {
     "data": {
      "text/plain": [
       "3.52621170086654"
      ]
     },
     "execution_count": 104,
     "metadata": {},
     "output_type": "execute_result"
    }
   ],
   "source": [
    "import numpy as np\n",
    "from sklearn.metrics import mean_squared_error\n",
    "\n",
    "np.sqrt(mean_squared_error(y_test, y_pred))"
   ]
  },
  {
   "cell_type": "code",
   "execution_count": null,
   "id": "e9047107",
   "metadata": {},
   "outputs": [],
   "source": []
  },
  {
   "cell_type": "code",
   "execution_count": null,
   "id": "c7b3c080",
   "metadata": {},
   "outputs": [],
   "source": []
  },
  {
   "cell_type": "markdown",
   "id": "71b34fb8",
   "metadata": {},
   "source": [
    "# LSTM Many to Many"
   ]
  },
  {
   "cell_type": "code",
   "execution_count": null,
   "id": "23108e0f",
   "metadata": {},
   "outputs": [],
   "source": [
    "# LSTM many-to-many Hyperparameter Tuning\n",
    "K.clear_session()\n",
    "model2 = Sequential() # Sequeatial Model\n",
    "model2.add(LSTM(128, input_shape=(7, 29),return_sequences=True)) # (timestep, feature)\n",
    "model2.add(Dropout(0.2))\n",
    "model2.add(LSTM(128,return_sequences=False))\n",
    "model2.add(Dropout(0.2))\n",
    "model2.add(Dense(64,activation='relu'))\n",
    "model2.add(Dense(16,activation='relu'))\n",
    "model2.add(Dense(8,activation='relu'))\n",
    "model2.add(Dense(1)) # output = 1\n",
    "model2.compile(optimizer='adam', loss='mse', metrics=[tf.keras.metrics.RootMeanSquaredError()])\n",
    "\n",
    "model2.summary()"
   ]
  },
  {
   "cell_type": "code",
   "execution_count": 173,
   "id": "4acbafb8",
   "metadata": {},
   "outputs": [],
   "source": [
    "# LSTM 2차 부터 8차까지 MMSE,MMSEG 를 제외한 데이터 만들기 2차~8차 MMSE 점수가 Target 변수\n",
    "df=pd.read_csv(\"MainData.csv\")\n",
    "\n",
    "df1=df.loc[:,'w01hhsize':'w01present_labor']\n",
    "df2=df.loc[:,'w02hhsize':'w02present_labor']\n",
    "df3=df.loc[:,'w03hhsize':'w03present_labor']\n",
    "df4=df.loc[:,'w04hhsize':'w04present_labor']\n",
    "df5=df.loc[:,'w05hhsize':'w05present_labor']\n",
    "df6=df.loc[:,'w06hhsize':'w06present_labor']\n",
    "df7=df.loc[:,'w07hhsize':'w07present_labor']\n",
    "df8=df.loc[:,'w08hhsize':'w08present_labor']\n",
    "\n",
    "df_new=pd.concat([df2,df3,df4,df5,df6,df7,df8],axis=1).dropna(axis=0)\n",
    "\n",
    "X=df_new.drop(['w02mmse','w02mmseg','w03mmse','w03mmseg','w04mmse','w04mmseg','w05mmse','w05mmseg','w06mmse','w06mmseg','w07mmse','w07mmseg','w08mmse','w08mmseg'],axis=1)\n",
    "y=df_new[['w02mmse','w03mmse','w04mmse','w05mmse','w06mmse','w07mmse','w08mmse']]\n",
    "\n",
    "from sklearn.preprocessing import MinMaxScaler\n",
    "\n",
    "sc=MinMaxScaler()\n",
    "\n",
    "X=pd.DataFrame(sc.fit_transform(X))\n",
    "\n",
    "X=X.values.reshape(X.shape[0],7,29)\n",
    "\n",
    "# Train Test Set 으로 Split 하자\n",
    "from sklearn.model_selection import train_test_split\n",
    "\n",
    "X_train, X_test, y_train, y_test = train_test_split(X,y,test_size=0.2, random_state=42)"
   ]
  },
  {
   "cell_type": "code",
   "execution_count": 174,
   "id": "1a67cb03",
   "metadata": {},
   "outputs": [
    {
     "name": "stdout",
     "output_type": "stream",
     "text": [
      "(3302, 7, 29) (826, 7, 29)\n"
     ]
    }
   ],
   "source": [
    "print(X_train.shape,X_test.shape)"
   ]
  },
  {
   "cell_type": "code",
   "execution_count": null,
   "id": "72caff70",
   "metadata": {},
   "outputs": [
    {
     "name": "stdout",
     "output_type": "stream",
     "text": [
      "Epoch 1/100\n"
     ]
    },
    {
     "name": "stderr",
     "output_type": "stream",
     "text": [
      "2022-12-07 20:54:00.808969: I tensorflow/core/grappler/optimizers/custom_graph_optimizer_registry.cc:113] Plugin optimizer for device_type GPU is enabled.\n",
      "2022-12-07 20:54:01.060801: I tensorflow/core/grappler/optimizers/custom_graph_optimizer_registry.cc:113] Plugin optimizer for device_type GPU is enabled.\n",
      "2022-12-07 20:54:01.135741: I tensorflow/core/grappler/optimizers/custom_graph_optimizer_registry.cc:113] Plugin optimizer for device_type GPU is enabled.\n"
     ]
    },
    {
     "name": "stdout",
     "output_type": "stream",
     "text": [
      "\r",
      "  1/111 [..............................] - ETA: 4:17 - loss: 690.8140 - root_mean_squared_error: 26.2833"
     ]
    },
    {
     "name": "stderr",
     "output_type": "stream",
     "text": [
      "2022-12-07 20:54:01.462864: I tensorflow/core/grappler/optimizers/custom_graph_optimizer_registry.cc:113] Plugin optimizer for device_type GPU is enabled.\n",
      "2022-12-07 20:54:01.545891: I tensorflow/core/grappler/optimizers/custom_graph_optimizer_registry.cc:113] Plugin optimizer for device_type GPU is enabled.\n"
     ]
    },
    {
     "name": "stdout",
     "output_type": "stream",
     "text": [
      "111/111 [==============================] - 4s 15ms/step - loss: 117.9456 - root_mean_squared_error: 10.8603\n",
      "Epoch 2/100\n",
      "111/111 [==============================] - 1s 12ms/step - loss: 21.9365 - root_mean_squared_error: 4.6836\n",
      "Epoch 3/100\n",
      "111/111 [==============================] - 1s 12ms/step - loss: 21.7230 - root_mean_squared_error: 4.6608\n",
      "Epoch 4/100\n",
      "111/111 [==============================] - 1s 12ms/step - loss: 21.3791 - root_mean_squared_error: 4.6237\n",
      "Epoch 5/100\n",
      "111/111 [==============================] - 1s 12ms/step - loss: 21.2547 - root_mean_squared_error: 4.6103\n",
      "Epoch 6/100\n",
      "111/111 [==============================] - 1s 13ms/step - loss: 21.2499 - root_mean_squared_error: 4.6098\n",
      "Epoch 7/100\n",
      "111/111 [==============================] - 1s 13ms/step - loss: 21.1898 - root_mean_squared_error: 4.6032\n",
      "Epoch 8/100\n",
      "111/111 [==============================] - 1s 13ms/step - loss: 21.1647 - root_mean_squared_error: 4.6005\n",
      "Epoch 9/100\n",
      "111/111 [==============================] - 1s 13ms/step - loss: 21.1791 - root_mean_squared_error: 4.6021\n",
      "Epoch 10/100\n",
      "111/111 [==============================] - 1s 13ms/step - loss: 20.8093 - root_mean_squared_error: 4.5617\n",
      "Epoch 11/100\n",
      "111/111 [==============================] - 1s 13ms/step - loss: 19.1793 - root_mean_squared_error: 4.3794\n",
      "Epoch 12/100\n",
      "111/111 [==============================] - 1s 12ms/step - loss: 14.9866 - root_mean_squared_error: 3.8713\n",
      "Epoch 13/100\n",
      "111/111 [==============================] - 1s 13ms/step - loss: 13.5548 - root_mean_squared_error: 3.6817\n",
      "Epoch 14/100\n",
      "111/111 [==============================] - 1s 12ms/step - loss: 13.5291 - root_mean_squared_error: 3.6782\n",
      "Epoch 15/100\n",
      "111/111 [==============================] - 1s 13ms/step - loss: 12.9555 - root_mean_squared_error: 3.5994\n",
      "Epoch 16/100\n",
      "111/111 [==============================] - 1s 13ms/step - loss: 12.9452 - root_mean_squared_error: 3.5979\n",
      "Epoch 17/100\n",
      "111/111 [==============================] - 1s 12ms/step - loss: 12.7635 - root_mean_squared_error: 3.5726\n",
      "Epoch 18/100\n",
      "111/111 [==============================] - 1s 12ms/step - loss: 12.7315 - root_mean_squared_error: 3.5681\n",
      "Epoch 19/100\n",
      "111/111 [==============================] - 1s 13ms/step - loss: 12.6869 - root_mean_squared_error: 3.5619\n",
      "Epoch 20/100\n",
      "111/111 [==============================] - 1s 12ms/step - loss: 12.6637 - root_mean_squared_error: 3.5586\n",
      "Epoch 21/100\n",
      "111/111 [==============================] - 1s 13ms/step - loss: 12.6924 - root_mean_squared_error: 3.5626\n",
      "Epoch 22/100\n",
      "111/111 [==============================] - 1s 13ms/step - loss: 12.6676 - root_mean_squared_error: 3.5592\n",
      "Epoch 23/100\n",
      "111/111 [==============================] - 1s 13ms/step - loss: 12.6235 - root_mean_squared_error: 3.5530\n",
      "Epoch 24/100\n",
      "111/111 [==============================] - 1s 12ms/step - loss: 12.6466 - root_mean_squared_error: 3.5562\n",
      "Epoch 25/100\n",
      "111/111 [==============================] - 1s 13ms/step - loss: 12.5072 - root_mean_squared_error: 3.5366\n",
      "Epoch 26/100\n",
      "111/111 [==============================] - 1s 13ms/step - loss: 12.7366 - root_mean_squared_error: 3.5688\n",
      "Epoch 27/100\n",
      "111/111 [==============================] - 1s 13ms/step - loss: 12.6135 - root_mean_squared_error: 3.5516\n",
      "Epoch 28/100\n",
      "111/111 [==============================] - 1s 13ms/step - loss: 12.4479 - root_mean_squared_error: 3.5282\n",
      "Epoch 29/100\n",
      "111/111 [==============================] - 1s 12ms/step - loss: 12.5229 - root_mean_squared_error: 3.5388\n",
      "Epoch 30/100\n",
      "111/111 [==============================] - 1s 13ms/step - loss: 12.4967 - root_mean_squared_error: 3.5351\n",
      "Epoch 31/100\n",
      "111/111 [==============================] - 1s 12ms/step - loss: 12.3913 - root_mean_squared_error: 3.5201\n",
      "Epoch 32/100\n",
      "111/111 [==============================] - 1s 13ms/step - loss: 12.4121 - root_mean_squared_error: 3.5231\n",
      "Epoch 33/100\n",
      "111/111 [==============================] - 1s 13ms/step - loss: 12.5940 - root_mean_squared_error: 3.5488\n",
      "Epoch 34/100\n",
      "111/111 [==============================] - 1s 12ms/step - loss: 12.3086 - root_mean_squared_error: 3.5084\n",
      "Epoch 35/100\n",
      "111/111 [==============================] - 1s 12ms/step - loss: 12.3199 - root_mean_squared_error: 3.5100\n",
      "Epoch 36/100\n",
      "111/111 [==============================] - 1s 12ms/step - loss: 12.3166 - root_mean_squared_error: 3.5095\n",
      "Epoch 37/100\n",
      "111/111 [==============================] - 1s 13ms/step - loss: 12.3841 - root_mean_squared_error: 3.5191\n",
      "Epoch 38/100\n",
      "111/111 [==============================] - 1s 12ms/step - loss: 12.3592 - root_mean_squared_error: 3.5156\n",
      "Epoch 39/100\n",
      "111/111 [==============================] - 1s 13ms/step - loss: 12.2577 - root_mean_squared_error: 3.5011\n",
      "Epoch 40/100\n",
      "111/111 [==============================] - 1s 13ms/step - loss: 12.1953 - root_mean_squared_error: 3.4922\n",
      "Epoch 41/100\n",
      "111/111 [==============================] - 1s 12ms/step - loss: 12.6692 - root_mean_squared_error: 3.5594\n",
      "Epoch 42/100\n",
      "111/111 [==============================] - 1s 12ms/step - loss: 12.3733 - root_mean_squared_error: 3.5176\n",
      "Epoch 43/100\n",
      "111/111 [==============================] - 1s 13ms/step - loss: 12.1724 - root_mean_squared_error: 3.4889\n",
      "Epoch 44/100\n",
      "111/111 [==============================] - 1s 12ms/step - loss: 12.1393 - root_mean_squared_error: 3.4842\n",
      "Epoch 45/100\n",
      "111/111 [==============================] - 1s 13ms/step - loss: 12.1779 - root_mean_squared_error: 3.4897\n",
      "Epoch 46/100\n",
      "111/111 [==============================] - 1s 13ms/step - loss: 12.0524 - root_mean_squared_error: 3.4717\n",
      "Epoch 47/100\n",
      "111/111 [==============================] - 2s 14ms/step - loss: 12.2796 - root_mean_squared_error: 3.5042\n",
      "Epoch 48/100\n",
      "111/111 [==============================] - 1s 13ms/step - loss: 12.0679 - root_mean_squared_error: 3.4739\n",
      "Epoch 49/100\n",
      "111/111 [==============================] - 1s 13ms/step - loss: 12.1339 - root_mean_squared_error: 3.4834\n",
      "Epoch 50/100\n",
      "111/111 [==============================] - 1s 13ms/step - loss: 12.2851 - root_mean_squared_error: 3.5050\n",
      "Epoch 51/100\n",
      "111/111 [==============================] - 1s 12ms/step - loss: 12.0697 - root_mean_squared_error: 3.4741\n",
      "Epoch 52/100\n",
      "111/111 [==============================] - 1s 13ms/step - loss: 11.8950 - root_mean_squared_error: 3.4489\n",
      "Epoch 53/100\n",
      "111/111 [==============================] - 1s 13ms/step - loss: 12.2614 - root_mean_squared_error: 3.5016\n",
      "Epoch 54/100\n",
      "111/111 [==============================] - 1s 13ms/step - loss: 11.8962 - root_mean_squared_error: 3.4491\n",
      "Epoch 55/100\n",
      "111/111 [==============================] - 1s 13ms/step - loss: 11.8235 - root_mean_squared_error: 3.4385\n",
      "Epoch 56/100\n",
      "111/111 [==============================] - 1s 12ms/step - loss: 11.8626 - root_mean_squared_error: 3.4442\n",
      "Epoch 57/100\n",
      "111/111 [==============================] - 1s 12ms/step - loss: 11.8389 - root_mean_squared_error: 3.4408\n",
      "Epoch 58/100\n",
      " 51/111 [============>.................] - ETA: 39s - loss: 11.8841 - root_mean_squared_error: 3.4473"
     ]
    }
   ],
   "source": [
    "early_stop = EarlyStopping(monitor='loss', patience=5, verbose=1)\n",
    "\n",
    "model2.fit(X_train, y_train, epochs=100,\n",
    "          batch_size=30, verbose=1, callbacks=[early_stop])"
   ]
  },
  {
   "cell_type": "code",
   "execution_count": null,
   "id": "a61f6d59",
   "metadata": {},
   "outputs": [],
   "source": [
    "y_pred=model2.predict(X_test)\n",
    "y_pred=y_pred.reshape(826,7)\n",
    "print(y_pred.shape)"
   ]
  },
  {
   "cell_type": "code",
   "execution_count": 188,
   "id": "7a6f3076",
   "metadata": {},
   "outputs": [
    {
     "data": {
      "text/plain": [
       "3.8070109758555337"
      ]
     },
     "execution_count": 188,
     "metadata": {},
     "output_type": "execute_result"
    }
   ],
   "source": [
    "from sklearn.metrics import mean_squared_error\n",
    "\n",
    "np.sqrt(mean_squared_error(y_test, y_pred))"
   ]
  },
  {
   "cell_type": "code",
   "execution_count": 189,
   "id": "1153ac43",
   "metadata": {},
   "outputs": [
    {
     "name": "stdout",
     "output_type": "stream",
     "text": [
      "104/104 [==============================] - 1s 8ms/step\n"
     ]
    },
    {
     "data": {
      "text/plain": [
       "2.733578384538179"
      ]
     },
     "execution_count": 189,
     "metadata": {},
     "output_type": "execute_result"
    }
   ],
   "source": [
    "y_train_pred=model2.predict(X_train)\n",
    "y_train_pred=y_train_pred.reshape(3302,7)\n",
    "np.sqrt(mean_squared_error(y_train, y_train_pred))"
   ]
  },
  {
   "cell_type": "code",
   "execution_count": 184,
   "id": "fc2a3976",
   "metadata": {},
   "outputs": [
    {
     "data": {
      "text/plain": [
       "(3302, 7)"
      ]
     },
     "execution_count": 184,
     "metadata": {},
     "output_type": "execute_result"
    }
   ],
   "source": []
  },
  {
   "cell_type": "code",
   "execution_count": null,
   "id": "c2f423de",
   "metadata": {},
   "outputs": [],
   "source": []
  }
 ],
 "metadata": {
  "kernelspec": {
   "display_name": "Python 3 (ipykernel)",
   "language": "python",
   "name": "python3"
  },
  "language_info": {
   "codemirror_mode": {
    "name": "ipython",
    "version": 3
   },
   "file_extension": ".py",
   "mimetype": "text/x-python",
   "name": "python",
   "nbconvert_exporter": "python",
   "pygments_lexer": "ipython3",
   "version": "3.8.13"
  }
 },
 "nbformat": 4,
 "nbformat_minor": 5
}
